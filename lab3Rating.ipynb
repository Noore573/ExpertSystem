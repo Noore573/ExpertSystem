{
 "cells": [
  {
   "cell_type": "code",
   "execution_count": 4,
   "metadata": {},
   "outputs": [
    {
     "name": "stdout",
     "output_type": "stream",
     "text": [
      "The winning team is RealMadrid (because of luck)\n"
     ]
    }
   ],
   "source": [
    "from experta import *\n",
    "\n",
    "class Player(Fact):\n",
    "    pass\n",
    "\n",
    "class Score(Fact):\n",
    "    pass\n",
    "\n",
    "\n",
    "class Monitor(Fact):\n",
    "    pass\n",
    "class BestTeam(KnowledgeEngine):\n",
    "    @DefFacts()\n",
    "    def _initial_action(self):\n",
    "        yield Player(name=\"Carvajal\",team=\"RM\",Role=\"DF\")\n",
    "        yield Player(name=\"alaba\",team=\"RM\",Role=\"DF\")\n",
    "        yield Player(name=\"Haaland\",team=\"MC\",Role=\"FW\")\n",
    "        yield Player(name=\"Alvarez\",team=\"MC\",Role=\"FW\")\n",
    "        yield Monitor(n1=\"Haaland\",n2=\"Carvajal\")\n",
    "        yield Monitor(n1=\"Alvarez\",n2=\"alaba\")\n",
    "       \n",
    "    @Rule(FORALL(\n",
    "    Player(name=MATCH.p1, team='MC', Role=W()),\n",
    "    Score(name=MATCH.p1, degree=MATCH.d1),\n",
    "    Monitor(n1=MATCH.p1, n2=MATCH.p2),\n",
    "    Score(name=MATCH.p2, degree=MATCH.d2),\n",
    "    TEST(lambda d1, d2: d1 < d2)))\n",
    "    def WinningTeam(self):\n",
    "        print(\"The winning team is RealMadrid (because of luck)\")\n",
    "    \n",
    "    @Rule(FORALL(\n",
    "    Player(name=MATCH.p1, team='MC', Role=W()),\n",
    "    Score(name=MATCH.p1, degree=MATCH.d1),\n",
    "    Monitor(n1=MATCH.p1, n2=MATCH.p2),\n",
    "    Score(name=MATCH.p2, degree=MATCH.d2),\n",
    "    TEST(lambda d1, d2: d1 > d2)))\n",
    "    def WinningTeam2(self):\n",
    "        print(\"The winning team is ManCity (because of Oil)\")\n",
    "        # i hate both teams\n",
    "\n",
    "\n",
    "\n",
    "\n",
    "engine = BestTeam()\n",
    "engine.reset()\n",
    "engine.declare(Score(name=\"Carvajal\", degree=10))\n",
    "engine.declare(Score(name=\"alaba\", degree=10))\n",
    "engine.declare(Score(name=\"Haaland\", degree=9))\n",
    "engine.declare(Score(name=\"Alvarez\", degree=8))\n",
    "engine.run()\n",
    "\n"
   ]
  },
  {
   "cell_type": "code",
   "execution_count": null,
   "metadata": {},
   "outputs": [],
   "source": []
  }
 ],
 "metadata": {
  "kernelspec": {
   "display_name": "Python 3",
   "language": "python",
   "name": "python3"
  },
  "language_info": {
   "codemirror_mode": {
    "name": "ipython",
    "version": 3
   },
   "file_extension": ".py",
   "mimetype": "text/x-python",
   "name": "python",
   "nbconvert_exporter": "python",
   "pygments_lexer": "ipython3",
   "version": "3.12.3"
  }
 },
 "nbformat": 4,
 "nbformat_minor": 2
}
