{
 "cells": [
  {
   "cell_type": "code",
   "execution_count": 1,
   "metadata": {},
   "outputs": [],
   "source": [
    "from experta import *"
   ]
  },
  {
   "cell_type": "code",
   "execution_count": 5,
   "metadata": {},
   "outputs": [
    {
     "name": "stdout",
     "output_type": "stream",
     "text": [
      "who\n",
      "who\n",
      "who\n"
     ]
    },
    {
     "data": {
      "text/plain": [
       "FactList([(0, InitialFact()),\n",
       "          (1, Fact(who='myself', sport='tennis')),\n",
       "          (2, Fact(who='ahmad', sport='tennis')),\n",
       "          (3, Fact(who='moh', sport='football'))])"
      ]
     },
     "execution_count": 5,
     "metadata": {},
     "output_type": "execute_result"
    }
   ],
   "source": [
    "\n",
    "class Tests(KnowledgeEngine):\n",
    "    @DefFacts ()\n",
    "    def _initialaction(self):\n",
    "        yield Fact(who=\"myself\",sport='tennis')\n",
    "        yield Fact(who=\"ahmad\",sport='tennis')\n",
    "        yield Fact(who=\"moh\",sport='football')\n",
    "    \n",
    "    @Rule(Fact(sport=MATCH.sport))\n",
    "    def go(self):\n",
    "        print(\"mm\")\n",
    "\n",
    "engine = Tests()\n",
    "engine.reset() \n",
    "engine.run()  \n",
    "engine.facts  \n",
    "\n"
   ]
  },
  {
   "cell_type": "code",
   "execution_count": 7,
   "metadata": {},
   "outputs": [
    {
     "name": "stdout",
     "output_type": "stream",
     "text": [
      "mm\n",
      "mm\n",
      "mm\n"
     ]
    },
    {
     "data": {
      "text/plain": [
       "['fe', 'fe', 'fe']"
      ]
     },
     "execution_count": 7,
     "metadata": {},
     "output_type": "execute_result"
    }
   ],
   "source": [
    "shared=[]\n",
    "\n",
    "class Tests(KnowledgeEngine):\n",
    "    def __init__(self):\n",
    "        self.sport=\"\"\n",
    "    @DefFacts ()\n",
    "    def _initialaction(self):\n",
    "        \n",
    "        yield Fact(who=\"myself\",sport='tennis')\n",
    "        self.sport=MATCH.sport\n",
    "        # yield Fact(who=\"ahmad\",sport='tennis')\n",
    "        # yield Fact(who=\"moh\",sport='football')\n",
    "    \n",
    "    @Rule(Fact(sport=MATCH.sport))\n",
    "    def go(self):\n",
    "        global shared\n",
    "        shared.append(\"fe\")\n",
    "        print(\"mm\")\n",
    "\n",
    "engine = Tests()\n",
    "engine.reset() \n",
    "engine.declare(Fact(who=\"ahmad\",sport='tennis'))\n",
    "engine.declare(Fact(who=\"moh\",sport='football'))\n",
    "engine.run()  \n",
    "engine.facts  \n",
    "shared\n",
    "\n"
   ]
  },
  {
   "cell_type": "code",
   "execution_count": 8,
   "metadata": {},
   "outputs": [
    {
     "ename": "AttributeError",
     "evalue": "'W' object has no attribute 'sport'",
     "output_type": "error",
     "traceback": [
      "\u001b[1;31m---------------------------------------------------------------------------\u001b[0m",
      "\u001b[1;31mAttributeError\u001b[0m                            Traceback (most recent call last)",
      "Cell \u001b[1;32mIn[8], line 3\u001b[0m\n\u001b[0;32m      1\u001b[0m shared\u001b[38;5;241m=\u001b[39m[]\n\u001b[1;32m----> 3\u001b[0m \u001b[38;5;28;43;01mclass\u001b[39;49;00m\u001b[43m \u001b[49m\u001b[38;5;21;43;01mTests\u001b[39;49;00m\u001b[43m(\u001b[49m\u001b[43mKnowledgeEngine\u001b[49m\u001b[43m)\u001b[49m\u001b[43m:\u001b[49m\n\u001b[0;32m      4\u001b[0m \u001b[43m    \u001b[49m\u001b[38;5;28;43;01mdef\u001b[39;49;00m\u001b[43m \u001b[49m\u001b[38;5;21;43m__init__\u001b[39;49m\u001b[43m(\u001b[49m\u001b[38;5;28;43mself\u001b[39;49m\u001b[43m)\u001b[49m\u001b[43m:\u001b[49m\n\u001b[0;32m      5\u001b[0m \u001b[43m        \u001b[49m\u001b[38;5;28;43mself\u001b[39;49m\u001b[38;5;241;43m.\u001b[39;49m\u001b[43msport\u001b[49m\u001b[38;5;241;43m=\u001b[39;49m\u001b[38;5;124;43m\"\u001b[39;49m\u001b[38;5;124;43mtennis\u001b[39;49m\u001b[38;5;124;43m\"\u001b[39;49m\n",
      "Cell \u001b[1;32mIn[8], line 14\u001b[0m, in \u001b[0;36mTests\u001b[1;34m()\u001b[0m\n\u001b[0;32m      9\u001b[0m     \u001b[38;5;28;01myield\u001b[39;00m Fact(who\u001b[38;5;241m=\u001b[39m\u001b[38;5;124m\"\u001b[39m\u001b[38;5;124mmyself\u001b[39m\u001b[38;5;124m\"\u001b[39m,sport\u001b[38;5;241m=\u001b[39m\u001b[38;5;124m'\u001b[39m\u001b[38;5;124mtennis\u001b[39m\u001b[38;5;124m'\u001b[39m)\n\u001b[0;32m     10\u001b[0m     \u001b[38;5;66;03m# self.sport=MATCH.sport\u001b[39;00m\n\u001b[0;32m     11\u001b[0m     \u001b[38;5;66;03m# yield Fact(who=\"ahmad\",sport='tennis')\u001b[39;00m\n\u001b[0;32m     12\u001b[0m     \u001b[38;5;66;03m# yield Fact(who=\"moh\",sport='football')\u001b[39;00m\n\u001b[1;32m---> 14\u001b[0m \u001b[38;5;129m@Rule\u001b[39m(Fact(sport\u001b[38;5;241m=\u001b[39m\u001b[43mMATCH\u001b[49m\u001b[38;5;241;43m.\u001b[39;49m\u001b[43mself\u001b[49m\u001b[38;5;241;43m.\u001b[39;49m\u001b[43msport\u001b[49m))\n\u001b[0;32m     15\u001b[0m \u001b[38;5;28;01mdef\u001b[39;00m \u001b[38;5;21mgo\u001b[39m(\u001b[38;5;28mself\u001b[39m):\n\u001b[0;32m     16\u001b[0m     \u001b[38;5;28;01mglobal\u001b[39;00m shared\n\u001b[0;32m     17\u001b[0m     shared\u001b[38;5;241m.\u001b[39mappend(\u001b[38;5;124m\"\u001b[39m\u001b[38;5;124mfe\u001b[39m\u001b[38;5;124m\"\u001b[39m)\n",
      "\u001b[1;31mAttributeError\u001b[0m: 'W' object has no attribute 'sport'"
     ]
    }
   ],
   "source": [
    "shared=[]\n",
    "\n",
    "class Tests(KnowledgeEngine):\n",
    "    def __init__(self):\n",
    "        self.sport=\"tennis\"\n",
    "    @DefFacts ()\n",
    "    def _initialaction(self):\n",
    "        \n",
    "        yield Fact(who=\"myself\",sport='tennis')\n",
    "        # self.sport=MATCH.sport\n",
    "        # yield Fact(who=\"ahmad\",sport='tennis')\n",
    "        # yield Fact(who=\"moh\",sport='football')\n",
    "   \n",
    "    @Rule(Fact(sport=MATCH.self.sport))\n",
    "    def go(self):\n",
    "        global shared\n",
    "        shared.append(\"fe\")\n",
    "        print(\"mm\")\n",
    "        \n",
    "\n",
    "engine = Tests()\n",
    "engine.reset() \n",
    "engine.declare(Fact(who=\"ahmad\",sport='tennis'))\n",
    "engine.declare(Fact(who=\"moh\",sport='football'))\n",
    "engine.run()  \n",
    "engine.facts  \n",
    "shared\n",
    "\n"
   ]
  },
  {
   "cell_type": "code",
   "execution_count": 33,
   "metadata": {},
   "outputs": [
    {
     "ename": "AttributeError",
     "evalue": "'Tests' object has no attribute 'matcher'",
     "output_type": "error",
     "traceback": [
      "\u001b[1;31m---------------------------------------------------------------------------\u001b[0m",
      "\u001b[1;31mAttributeError\u001b[0m                            Traceback (most recent call last)",
      "Cell \u001b[1;32mIn[33], line 15\u001b[0m\n\u001b[0;32m      9\u001b[0m     \u001b[38;5;66;03m# @Rule(Fact(who=MATCH.who,sport=sport))\u001b[39;00m\n\u001b[0;32m     10\u001b[0m     \u001b[38;5;66;03m# def go(self,who):\u001b[39;00m\n\u001b[0;32m     11\u001b[0m     \u001b[38;5;66;03m#     print(who)\u001b[39;00m\n\u001b[0;32m     14\u001b[0m engine \u001b[38;5;241m=\u001b[39m Tests()\n\u001b[1;32m---> 15\u001b[0m \u001b[43mengine\u001b[49m\u001b[38;5;241;43m.\u001b[39;49m\u001b[43mreset\u001b[49m\u001b[43m(\u001b[49m\u001b[43m)\u001b[49m \n\u001b[0;32m     16\u001b[0m engine\u001b[38;5;241m.\u001b[39mdeclare(Fact(who\u001b[38;5;241m=\u001b[39m\u001b[38;5;124m\"\u001b[39m\u001b[38;5;124mahmad\u001b[39m\u001b[38;5;124m\"\u001b[39m,sport\u001b[38;5;241m=\u001b[39m\u001b[38;5;124m'\u001b[39m\u001b[38;5;124mtennis\u001b[39m\u001b[38;5;124m'\u001b[39m))\n\u001b[0;32m     17\u001b[0m engine\u001b[38;5;241m.\u001b[39mdeclare(Fact(who\u001b[38;5;241m=\u001b[39m\u001b[38;5;124m\"\u001b[39m\u001b[38;5;124mfeef\u001b[39m\u001b[38;5;124m\"\u001b[39m,sport\u001b[38;5;241m=\u001b[39m\u001b[38;5;124m'\u001b[39m\u001b[38;5;124mtennis\u001b[39m\u001b[38;5;124m'\u001b[39m))\n",
      "File \u001b[1;32m~\\AppData\\Local\\Programs\\Python\\Python312\\Lib\\site-packages\\experta\\engine.py:191\u001b[0m, in \u001b[0;36mKnowledgeEngine.reset\u001b[1;34m(self, **kwargs)\u001b[0m\n\u001b[0;32m    188\u001b[0m \u001b[38;5;28mself\u001b[39m\u001b[38;5;241m.\u001b[39magenda \u001b[38;5;241m=\u001b[39m Agenda()\n\u001b[0;32m    189\u001b[0m \u001b[38;5;28mself\u001b[39m\u001b[38;5;241m.\u001b[39mfacts \u001b[38;5;241m=\u001b[39m FactList()\n\u001b[1;32m--> 191\u001b[0m \u001b[38;5;28;43mself\u001b[39;49m\u001b[38;5;241;43m.\u001b[39;49m\u001b[43mmatcher\u001b[49m\u001b[38;5;241m.\u001b[39mreset()\n\u001b[0;32m    193\u001b[0m deffacts \u001b[38;5;241m=\u001b[39m []\n\u001b[0;32m    194\u001b[0m \u001b[38;5;28;01mfor\u001b[39;00m deffact \u001b[38;5;129;01min\u001b[39;00m \u001b[38;5;28mself\u001b[39m\u001b[38;5;241m.\u001b[39mget_deffacts():\n",
      "\u001b[1;31mAttributeError\u001b[0m: 'Tests' object has no attribute 'matcher'"
     ]
    }
   ],
   "source": [
    "\n",
    "# class Tests(KnowledgeEngine):\n",
    "#     def __init__(self):\n",
    "#         self.sport=\"\"\n",
    "  \n",
    "#     @Rule(Fact(who=W(),sport=W()))\n",
    "#     def sett(self):\n",
    "#         # self.sport=sport\n",
    "#         print(\"fe\")\n",
    "#     # @Rule(Fact(who=MATCH.who,sport=sport))\n",
    "#     # def go(self,who):\n",
    "#     #     print(who)\n",
    "        \n",
    "\n",
    "# engine = Tests()\n",
    "# engine.reset() \n",
    "# engine.declare(Fact(who=\"ahmad\",sport='tennis'))\n",
    "# engine.declare(Fact(who=\"feef\",sport='tennis'))\n",
    "# engine.declare(Fact(who=\"yellow\",sport='te'))\n",
    "# engine.declare(Fact(who=\"moh\",sport='football'))\n",
    "# engine.run()  \n",
    "# engine.facts  \n",
    "\n"
   ]
  },
  {
   "cell_type": "code",
   "execution_count": 20,
   "metadata": {},
   "outputs": [
    {
     "name": "stdout",
     "output_type": "stream",
     "text": [
      "moh\n",
      "yellow\n",
      "feef\n",
      "ahmad\n",
      "feef\n",
      "ahmad\n"
     ]
    }
   ],
   "source": [
    "from experta import *\n",
    "class Tests(KnowledgeEngine):\n",
    "    @Rule(Fact(name=MATCH.name, sport=MATCH.s), \n",
    "          Fact(sport=MATCH.s))\n",
    "    def pp(self, name):\n",
    "        print(name)\n",
    "\n",
    "engine = Tests()\n",
    "engine.reset() \n",
    "engine.declare(Fact(name=\"ahmad\",sport='tennis'))\n",
    "engine.declare(Fact(name=\"feef\",sport='tennis'))\n",
    "engine.declare(Fact(name=\"yellow\",sport='te'))\n",
    "engine.declare(Fact(name=\"moh\",sport='football'))\n",
    "engine.run()  \n"
   ]
  },
  {
   "cell_type": "code",
   "execution_count": 65,
   "metadata": {},
   "outputs": [
    {
     "name": "stdout",
     "output_type": "stream",
     "text": [
      "feef\n",
      "ahmad\n",
      "noore\n"
     ]
    }
   ],
   "source": [
    "from experta import *\n",
    "class Tests(KnowledgeEngine): \n",
    "  \n",
    "   \n",
    "    \n",
    "    @Rule(Fact(name=\"noore\", sport=MATCH.s), \n",
    "          Fact(name=MATCH.name, sport=MATCH.s))\n",
    "    def pp(self, name):\n",
    "        print(name)\n",
    "\n",
    "engine = Tests()\n",
    "engine.reset() \n",
    "engine.declare(Fact(name=\"noore\", sport='tennis'))\n",
    "engine.declare(Fact(name=\"ahmad\", sport='tennis'))\n",
    "engine.declare(Fact(name=\"moh\", sport='tennis'))\n",
    "engine.declare(Fact(name=\"yellow\", sport='ten'))\n",
    "engine.declare(Fact(name=\"moh\", sport='football'))\n",
    "engine.run()  \n"
   ]
  },
  {
   "cell_type": "code",
   "execution_count": null,
   "metadata": {},
   "outputs": [],
   "source": []
  },
  {
   "cell_type": "code",
   "execution_count": null,
   "metadata": {},
   "outputs": [],
   "source": []
  }
 ],
 "metadata": {
  "kernelspec": {
   "display_name": "Python 3 (ipykernel)",
   "language": "python",
   "name": "python3"
  }
 },
 "nbformat": 4,
 "nbformat_minor": 2
}
